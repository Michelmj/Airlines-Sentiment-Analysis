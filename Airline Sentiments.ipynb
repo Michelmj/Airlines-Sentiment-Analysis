{
 "cells": [
  {
   "cell_type": "markdown",
   "metadata": {},
   "source": [
    "# Loading Libraries"
   ]
  },
  {
   "cell_type": "code",
   "execution_count": 1,
   "metadata": {},
   "outputs": [],
   "source": [
    "import numpy as np\n",
    "import pandas as pd\n",
    "import matplotlib.pyplot as plt\n",
    "%matplotlib inline\n",
    "import seaborn as sns\n",
    "import nltk, re, string, warnings"
   ]
  },
  {
   "cell_type": "markdown",
   "metadata": {},
   "source": [
    "Uploading the dataset and looking it the first 5 rows"
   ]
  },
  {
   "cell_type": "code",
   "execution_count": 16,
   "metadata": {
    "scrolled": false
   },
   "outputs": [
    {
     "name": "stdout",
     "output_type": "stream",
     "text": [
      "       tweet_id airline_sentiment  airline_sentiment_confidence  \\\n",
      "0  5.703060e+17           neutral                        1.0000   \n",
      "1  5.703010e+17          positive                        0.3486   \n",
      "2  5.703010e+17           neutral                        0.6837   \n",
      "3  5.703010e+17          negative                        1.0000   \n",
      "4  5.703010e+17          negative                        1.0000   \n",
      "\n",
      "  negativereason  negativereason_confidence         airline  \\\n",
      "0            NaN                        NaN  Virgin America   \n",
      "1            NaN                     0.0000  Virgin America   \n",
      "2            NaN                        NaN  Virgin America   \n",
      "3     Bad Flight                     0.7033  Virgin America   \n",
      "4     Can't Tell                     1.0000  Virgin America   \n",
      "\n",
      "  airline_sentiment_gold        name negativereason_gold  retweet_count  \\\n",
      "0                    NaN     cairdin                 NaN              0   \n",
      "1                    NaN    jnardino                 NaN              0   \n",
      "2                    NaN  yvonnalynn                 NaN              0   \n",
      "3                    NaN    jnardino                 NaN              0   \n",
      "4                    NaN    jnardino                 NaN              0   \n",
      "\n",
      "                                                text tweet_coord  \\\n",
      "0                @VirginAmerica What @dhepburn said.         NaN   \n",
      "1  @VirginAmerica plus you've added commercials t...         NaN   \n",
      "2  @VirginAmerica I didn't today... Must mean I n...         NaN   \n",
      "3  @VirginAmerica it's really aggressive to blast...         NaN   \n",
      "4  @VirginAmerica and it's a really big bad thing...         NaN   \n",
      "\n",
      "     tweet_created tweet_location               user_timezone  \n",
      "0  2/24/2015 11:35            NaN  Eastern Time (US & Canada)  \n",
      "1  2/24/2015 11:15            NaN  Pacific Time (US & Canada)  \n",
      "2  2/24/2015 11:15      Lets Play  Central Time (US & Canada)  \n",
      "3  2/24/2015 11:15            NaN  Pacific Time (US & Canada)  \n",
      "4  2/24/2015 11:14            NaN  Pacific Time (US & Canada)  \n",
      "<bound method NDFrame.describe of            tweet_id airline_sentiment  airline_sentiment_confidence  \\\n",
      "0      5.703060e+17           neutral                        1.0000   \n",
      "1      5.703010e+17          positive                        0.3486   \n",
      "2      5.703010e+17           neutral                        0.6837   \n",
      "3      5.703010e+17          negative                        1.0000   \n",
      "4      5.703010e+17          negative                        1.0000   \n",
      "...             ...               ...                           ...   \n",
      "14635  5.695880e+17          positive                        0.3487   \n",
      "14636  5.695870e+17          negative                        1.0000   \n",
      "14637  5.695870e+17           neutral                        1.0000   \n",
      "14638  5.695870e+17          negative                        1.0000   \n",
      "14639  5.695870e+17           neutral                        0.6771   \n",
      "\n",
      "               negativereason  negativereason_confidence         airline  \\\n",
      "0                         NaN                        NaN  Virgin America   \n",
      "1                         NaN                     0.0000  Virgin America   \n",
      "2                         NaN                        NaN  Virgin America   \n",
      "3                  Bad Flight                     0.7033  Virgin America   \n",
      "4                  Can't Tell                     1.0000  Virgin America   \n",
      "...                       ...                        ...             ...   \n",
      "14635                     NaN                     0.0000        American   \n",
      "14636  Customer Service Issue                     1.0000        American   \n",
      "14637                     NaN                        NaN        American   \n",
      "14638  Customer Service Issue                     0.6659        American   \n",
      "14639                     NaN                     0.0000        American   \n",
      "\n",
      "      airline_sentiment_gold             name negativereason_gold  \\\n",
      "0                        NaN          cairdin                 NaN   \n",
      "1                        NaN         jnardino                 NaN   \n",
      "2                        NaN       yvonnalynn                 NaN   \n",
      "3                        NaN         jnardino                 NaN   \n",
      "4                        NaN         jnardino                 NaN   \n",
      "...                      ...              ...                 ...   \n",
      "14635                    NaN  KristenReenders                 NaN   \n",
      "14636                    NaN         itsropes                 NaN   \n",
      "14637                    NaN         sanyabun                 NaN   \n",
      "14638                    NaN       SraJackson                 NaN   \n",
      "14639                    NaN        daviddtwu                 NaN   \n",
      "\n",
      "       retweet_count                                               text  \\\n",
      "0                  0                @VirginAmerica What @dhepburn said.   \n",
      "1                  0  @VirginAmerica plus you've added commercials t...   \n",
      "2                  0  @VirginAmerica I didn't today... Must mean I n...   \n",
      "3                  0  @VirginAmerica it's really aggressive to blast...   \n",
      "4                  0  @VirginAmerica and it's a really big bad thing...   \n",
      "...              ...                                                ...   \n",
      "14635              0  @AmericanAir thank you we got on a different f...   \n",
      "14636              0  @AmericanAir leaving over 20 minutes Late Flig...   \n",
      "14637              0  @AmericanAir Please bring American Airlines to...   \n",
      "14638              0  @AmericanAir you have my money, you change my ...   \n",
      "14639              0  @AmericanAir we have 8 ppl so we need 2 know h...   \n",
      "\n",
      "      tweet_coord    tweet_created tweet_location               user_timezone  \n",
      "0             NaN  2/24/2015 11:35            NaN  Eastern Time (US & Canada)  \n",
      "1             NaN  2/24/2015 11:15            NaN  Pacific Time (US & Canada)  \n",
      "2             NaN  2/24/2015 11:15      Lets Play  Central Time (US & Canada)  \n",
      "3             NaN  2/24/2015 11:15            NaN  Pacific Time (US & Canada)  \n",
      "4             NaN  2/24/2015 11:14            NaN  Pacific Time (US & Canada)  \n",
      "...           ...              ...            ...                         ...  \n",
      "14635         NaN  2/22/2015 12:01            NaN                         NaN  \n",
      "14636         NaN  2/22/2015 11:59          Texas                         NaN  \n",
      "14637         NaN  2/22/2015 11:59  Nigeria,lagos                         NaN  \n",
      "14638         NaN  2/22/2015 11:59     New Jersey  Eastern Time (US & Canada)  \n",
      "14639         NaN  2/22/2015 11:58     dallas, TX                         NaN  \n",
      "\n",
      "[14640 rows x 15 columns]>\n",
      "<bound method DataFrame.info of            tweet_id airline_sentiment  airline_sentiment_confidence  \\\n",
      "0      5.703060e+17           neutral                        1.0000   \n",
      "1      5.703010e+17          positive                        0.3486   \n",
      "2      5.703010e+17           neutral                        0.6837   \n",
      "3      5.703010e+17          negative                        1.0000   \n",
      "4      5.703010e+17          negative                        1.0000   \n",
      "...             ...               ...                           ...   \n",
      "14635  5.695880e+17          positive                        0.3487   \n",
      "14636  5.695870e+17          negative                        1.0000   \n",
      "14637  5.695870e+17           neutral                        1.0000   \n",
      "14638  5.695870e+17          negative                        1.0000   \n",
      "14639  5.695870e+17           neutral                        0.6771   \n",
      "\n",
      "               negativereason  negativereason_confidence         airline  \\\n",
      "0                         NaN                        NaN  Virgin America   \n",
      "1                         NaN                     0.0000  Virgin America   \n",
      "2                         NaN                        NaN  Virgin America   \n",
      "3                  Bad Flight                     0.7033  Virgin America   \n",
      "4                  Can't Tell                     1.0000  Virgin America   \n",
      "...                       ...                        ...             ...   \n",
      "14635                     NaN                     0.0000        American   \n",
      "14636  Customer Service Issue                     1.0000        American   \n",
      "14637                     NaN                        NaN        American   \n",
      "14638  Customer Service Issue                     0.6659        American   \n",
      "14639                     NaN                     0.0000        American   \n",
      "\n",
      "      airline_sentiment_gold             name negativereason_gold  \\\n",
      "0                        NaN          cairdin                 NaN   \n",
      "1                        NaN         jnardino                 NaN   \n",
      "2                        NaN       yvonnalynn                 NaN   \n",
      "3                        NaN         jnardino                 NaN   \n",
      "4                        NaN         jnardino                 NaN   \n",
      "...                      ...              ...                 ...   \n",
      "14635                    NaN  KristenReenders                 NaN   \n",
      "14636                    NaN         itsropes                 NaN   \n",
      "14637                    NaN         sanyabun                 NaN   \n",
      "14638                    NaN       SraJackson                 NaN   \n",
      "14639                    NaN        daviddtwu                 NaN   \n",
      "\n",
      "       retweet_count                                               text  \\\n",
      "0                  0                @VirginAmerica What @dhepburn said.   \n",
      "1                  0  @VirginAmerica plus you've added commercials t...   \n",
      "2                  0  @VirginAmerica I didn't today... Must mean I n...   \n",
      "3                  0  @VirginAmerica it's really aggressive to blast...   \n",
      "4                  0  @VirginAmerica and it's a really big bad thing...   \n",
      "...              ...                                                ...   \n",
      "14635              0  @AmericanAir thank you we got on a different f...   \n",
      "14636              0  @AmericanAir leaving over 20 minutes Late Flig...   \n",
      "14637              0  @AmericanAir Please bring American Airlines to...   \n",
      "14638              0  @AmericanAir you have my money, you change my ...   \n",
      "14639              0  @AmericanAir we have 8 ppl so we need 2 know h...   \n",
      "\n",
      "      tweet_coord    tweet_created tweet_location               user_timezone  \n",
      "0             NaN  2/24/2015 11:35            NaN  Eastern Time (US & Canada)  \n",
      "1             NaN  2/24/2015 11:15            NaN  Pacific Time (US & Canada)  \n",
      "2             NaN  2/24/2015 11:15      Lets Play  Central Time (US & Canada)  \n",
      "3             NaN  2/24/2015 11:15            NaN  Pacific Time (US & Canada)  \n",
      "4             NaN  2/24/2015 11:14            NaN  Pacific Time (US & Canada)  \n",
      "...           ...              ...            ...                         ...  \n",
      "14635         NaN  2/22/2015 12:01            NaN                         NaN  \n",
      "14636         NaN  2/22/2015 11:59          Texas                         NaN  \n",
      "14637         NaN  2/22/2015 11:59  Nigeria,lagos                         NaN  \n",
      "14638         NaN  2/22/2015 11:59     New Jersey  Eastern Time (US & Canada)  \n",
      "14639         NaN  2/22/2015 11:58     dallas, TX                         NaN  \n",
      "\n",
      "[14640 rows x 15 columns]>\n",
      "(14640, 15)\n"
     ]
    }
   ],
   "source": [
    "sentair = pd.read_csv(\"C:/Users/Delmafia91/Downloads/AirlinesTweets.csv\")\n",
    "print(sentair.head(5))\n",
    "print(sentair.describe)\n",
    "print(sentair.info)\n",
    "print(sentair.shape)"
   ]
  },
  {
   "cell_type": "code",
   "execution_count": 5,
   "metadata": {},
   "outputs": [],
   "source": [
    "# Data Inspection\n",
    "Checking the dataset"
   ]
  },
  {
   "cell_type": "code",
   "execution_count": 6,
   "metadata": {
    "collapsed": true
   },
   "outputs": [
    {
     "name": "stdout",
     "output_type": "stream",
     "text": [
      "Size of Sentair is: (14640, 15)\n",
      "Columns of Sentair are: Index(['tweet_id', 'airline_sentiment', 'airline_sentiment_confidence',\n",
      "       'negativereason', 'negativereason_confidence', 'airline',\n",
      "       'airline_sentiment_gold', 'name', 'negativereason_gold',\n",
      "       'retweet_count', 'text', 'tweet_coord', 'tweet_created',\n",
      "       'tweet_location', 'user_timezone'],\n",
      "      dtype='object')\n"
     ]
    }
   ],
   "source": [
    "print('Size of Sentair is:', sentair.shape)\n",
    "print('Columns of Sentair are:', sentair.columns)"
   ]
  },
  {
   "cell_type": "markdown",
   "metadata": {},
   "source": [
    "As a custom, we need to check for any null value within any data."
   ]
  },
  {
   "cell_type": "code",
   "execution_count": 8,
   "metadata": {},
   "outputs": [
    {
     "name": "stdout",
     "output_type": "stream",
     "text": [
      "The number of null value in Sentair: tweet_id                            0\n",
      "airline_sentiment                   0\n",
      "airline_sentiment_confidence        0\n",
      "negativereason                   5462\n",
      "negativereason_confidence        4118\n",
      "airline                             0\n",
      "airline_sentiment_gold          14600\n",
      "name                                0\n",
      "negativereason_gold             14608\n",
      "retweet_count                       0\n",
      "text                                0\n",
      "tweet_coord                     13621\n",
      "tweet_created                       0\n",
      "tweet_location                   4733\n",
      "user_timezone                    4820\n",
      "dtype: int64\n"
     ]
    }
   ],
   "source": [
    "print('The number of null value in Sentair:', sentair.isna().sum())"
   ]
  },
  {
   "cell_type": "markdown",
   "metadata": {},
   "source": [
    "What is the percentage of null value in the Sentair dataframe"
   ]
  },
  {
   "cell_type": "code",
   "execution_count": 9,
   "metadata": {},
   "outputs": [
    {
     "name": "stdout",
     "output_type": "stream",
     "text": [
      "Percentage of null or na values in Sentair\n"
     ]
    },
    {
     "data": {
      "text/plain": [
       "tweet_id                         0.00\n",
       "airline_sentiment                0.00\n",
       "airline_sentiment_confidence     0.00\n",
       "negativereason                  37.31\n",
       "negativereason_confidence       28.13\n",
       "airline                          0.00\n",
       "airline_sentiment_gold          99.73\n",
       "name                             0.00\n",
       "negativereason_gold             99.78\n",
       "retweet_count                    0.00\n",
       "text                             0.00\n",
       "tweet_coord                     93.04\n",
       "tweet_created                    0.00\n",
       "tweet_location                  32.33\n",
       "user_timezone                   32.92\n",
       "dtype: float64"
      ]
     },
     "execution_count": 9,
     "metadata": {},
     "output_type": "execute_result"
    }
   ],
   "source": [
    "print('Percentage of null or na values in Sentair')\n",
    "((sentair.isnull() | sentair.isna()).sum()*100 / sentair.index.size).round(2)"
   ]
  },
  {
   "cell_type": "markdown",
   "metadata": {},
   "source": [
    "From this percentage, we can see that \"Airline sentiment gold, negative reason gold, and tweet coord\" have more than 90% missing data. Since we want to make life easier, we are going to remove these columns from the Sentair dataset."
   ]
  },
  {
   "cell_type": "code",
   "execution_count": 12,
   "metadata": {},
   "outputs": [],
   "source": [
    "sentair = sentair.drop(columns = ['tweet_coord', 'airline_sentiment_gold', 'negativereason_gold'])"
   ]
  },
  {
   "cell_type": "code",
   "execution_count": 15,
   "metadata": {
    "scrolled": false
   },
   "outputs": [
    {
     "name": "stdout",
     "output_type": "stream",
     "text": [
      "       tweet_id airline_sentiment  airline_sentiment_confidence  \\\n",
      "0  5.703060e+17           neutral                        1.0000   \n",
      "1  5.703010e+17          positive                        0.3486   \n",
      "2  5.703010e+17           neutral                        0.6837   \n",
      "3  5.703010e+17          negative                        1.0000   \n",
      "4  5.703010e+17          negative                        1.0000   \n",
      "\n",
      "  negativereason  negativereason_confidence         airline  \\\n",
      "0            NaN                        NaN  Virgin America   \n",
      "1            NaN                     0.0000  Virgin America   \n",
      "2            NaN                        NaN  Virgin America   \n",
      "3     Bad Flight                     0.7033  Virgin America   \n",
      "4     Can't Tell                     1.0000  Virgin America   \n",
      "\n",
      "  airline_sentiment_gold        name negativereason_gold  retweet_count  \\\n",
      "0                    NaN     cairdin                 NaN              0   \n",
      "1                    NaN    jnardino                 NaN              0   \n",
      "2                    NaN  yvonnalynn                 NaN              0   \n",
      "3                    NaN    jnardino                 NaN              0   \n",
      "4                    NaN    jnardino                 NaN              0   \n",
      "\n",
      "                                                text tweet_coord  \\\n",
      "0                @VirginAmerica What @dhepburn said.         NaN   \n",
      "1  @VirginAmerica plus you've added commercials t...         NaN   \n",
      "2  @VirginAmerica I didn't today... Must mean I n...         NaN   \n",
      "3  @VirginAmerica it's really aggressive to blast...         NaN   \n",
      "4  @VirginAmerica and it's a really big bad thing...         NaN   \n",
      "\n",
      "     tweet_created tweet_location               user_timezone  \n",
      "0  2/24/2015 11:35            NaN  Eastern Time (US & Canada)  \n",
      "1  2/24/2015 11:15            NaN  Pacific Time (US & Canada)  \n",
      "2  2/24/2015 11:15      Lets Play  Central Time (US & Canada)  \n",
      "3  2/24/2015 11:15            NaN  Pacific Time (US & Canada)  \n",
      "4  2/24/2015 11:14            NaN  Pacific Time (US & Canada)  \n",
      "<bound method DataFrame.info of            tweet_id airline_sentiment  airline_sentiment_confidence  \\\n",
      "0      5.703060e+17           neutral                        1.0000   \n",
      "1      5.703010e+17          positive                        0.3486   \n",
      "2      5.703010e+17           neutral                        0.6837   \n",
      "3      5.703010e+17          negative                        1.0000   \n",
      "4      5.703010e+17          negative                        1.0000   \n",
      "...             ...               ...                           ...   \n",
      "14635  5.695880e+17          positive                        0.3487   \n",
      "14636  5.695870e+17          negative                        1.0000   \n",
      "14637  5.695870e+17           neutral                        1.0000   \n",
      "14638  5.695870e+17          negative                        1.0000   \n",
      "14639  5.695870e+17           neutral                        0.6771   \n",
      "\n",
      "               negativereason  negativereason_confidence         airline  \\\n",
      "0                         NaN                        NaN  Virgin America   \n",
      "1                         NaN                     0.0000  Virgin America   \n",
      "2                         NaN                        NaN  Virgin America   \n",
      "3                  Bad Flight                     0.7033  Virgin America   \n",
      "4                  Can't Tell                     1.0000  Virgin America   \n",
      "...                       ...                        ...             ...   \n",
      "14635                     NaN                     0.0000        American   \n",
      "14636  Customer Service Issue                     1.0000        American   \n",
      "14637                     NaN                        NaN        American   \n",
      "14638  Customer Service Issue                     0.6659        American   \n",
      "14639                     NaN                     0.0000        American   \n",
      "\n",
      "      airline_sentiment_gold             name negativereason_gold  \\\n",
      "0                        NaN          cairdin                 NaN   \n",
      "1                        NaN         jnardino                 NaN   \n",
      "2                        NaN       yvonnalynn                 NaN   \n",
      "3                        NaN         jnardino                 NaN   \n",
      "4                        NaN         jnardino                 NaN   \n",
      "...                      ...              ...                 ...   \n",
      "14635                    NaN  KristenReenders                 NaN   \n",
      "14636                    NaN         itsropes                 NaN   \n",
      "14637                    NaN         sanyabun                 NaN   \n",
      "14638                    NaN       SraJackson                 NaN   \n",
      "14639                    NaN        daviddtwu                 NaN   \n",
      "\n",
      "       retweet_count                                               text  \\\n",
      "0                  0                @VirginAmerica What @dhepburn said.   \n",
      "1                  0  @VirginAmerica plus you've added commercials t...   \n",
      "2                  0  @VirginAmerica I didn't today... Must mean I n...   \n",
      "3                  0  @VirginAmerica it's really aggressive to blast...   \n",
      "4                  0  @VirginAmerica and it's a really big bad thing...   \n",
      "...              ...                                                ...   \n",
      "14635              0  @AmericanAir thank you we got on a different f...   \n",
      "14636              0  @AmericanAir leaving over 20 minutes Late Flig...   \n",
      "14637              0  @AmericanAir Please bring American Airlines to...   \n",
      "14638              0  @AmericanAir you have my money, you change my ...   \n",
      "14639              0  @AmericanAir we have 8 ppl so we need 2 know h...   \n",
      "\n",
      "      tweet_coord    tweet_created tweet_location               user_timezone  \n",
      "0             NaN  2/24/2015 11:35            NaN  Eastern Time (US & Canada)  \n",
      "1             NaN  2/24/2015 11:15            NaN  Pacific Time (US & Canada)  \n",
      "2             NaN  2/24/2015 11:15      Lets Play  Central Time (US & Canada)  \n",
      "3             NaN  2/24/2015 11:15            NaN  Pacific Time (US & Canada)  \n",
      "4             NaN  2/24/2015 11:14            NaN  Pacific Time (US & Canada)  \n",
      "...           ...              ...            ...                         ...  \n",
      "14635         NaN  2/22/2015 12:01            NaN                         NaN  \n",
      "14636         NaN  2/22/2015 11:59          Texas                         NaN  \n",
      "14637         NaN  2/22/2015 11:59  Nigeria,lagos                         NaN  \n",
      "14638         NaN  2/22/2015 11:59     New Jersey  Eastern Time (US & Canada)  \n",
      "14639         NaN  2/22/2015 11:58     dallas, TX                         NaN  \n",
      "\n",
      "[14640 rows x 15 columns]>\n",
      "(14640, 15)\n"
     ]
    }
   ],
   "source": [
    "print(sentair.head(5))\n",
    "print(sentair.info)\n",
    "print(sentair.shape)"
   ]
  },
  {
   "cell_type": "code",
   "execution_count": null,
   "metadata": {},
   "outputs": [],
   "source": []
  }
 ],
 "metadata": {
  "kernelspec": {
   "display_name": "Python 3",
   "language": "python",
   "name": "python3"
  },
  "language_info": {
   "codemirror_mode": {
    "name": "ipython",
    "version": 3
   },
   "file_extension": ".py",
   "mimetype": "text/x-python",
   "name": "python",
   "nbconvert_exporter": "python",
   "pygments_lexer": "ipython3",
   "version": "3.7.4"
  }
 },
 "nbformat": 4,
 "nbformat_minor": 2
}
